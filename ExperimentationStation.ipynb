{
 "cells": [
  {
   "cell_type": "code",
   "execution_count": null,
   "metadata": {},
   "outputs": [],
   "source": [
    "#! pip install seaborn\n",
    "! pip install tqdm"
   ]
  },
  {
   "cell_type": "code",
   "execution_count": null,
   "metadata": {},
   "outputs": [],
   "source": [
    "import numpy as np\n",
    "import matplotlib.pyplot as plt\n",
    "import seaborn as sns\n",
    "from tqdm.auto import tqdm"
   ]
  },
  {
   "attachments": {},
   "cell_type": "markdown",
   "metadata": {},
   "source": [
    "## Generating point lists (Naive method)"
   ]
  },
  {
   "cell_type": "code",
   "execution_count": null,
   "metadata": {},
   "outputs": [],
   "source": [
    "def generateFunctionPoints(function, start=-10, end=10, step=0.01):\n",
    "    return [(x, y) for x in tqdm(np.arange(start, end, step)) for y in np.arange(start, end, step) if np.isclose(function(x,y), 0, rtol=10)]"
   ]
  },
  {
   "cell_type": "code",
   "execution_count": null,
   "metadata": {},
   "outputs": [],
   "source": [
    "function = lambda x, y: x**2 - y**2 - 1\n",
    "points = np.array(generateFunctionPoints(function))\n",
    "\n",
    "print(len(points))"
   ]
  },
  {
   "cell_type": "code",
   "execution_count": null,
   "metadata": {},
   "outputs": [],
   "source": [
    "sns.scatterplot(x = points[:,0], y = points[:,1], legend=False)\n",
    "\n",
    "plt.gca().set_aspect('equal')\n",
    "\n",
    "plt.xlim(-10, 10)\n",
    "plt.ylim(-10, 10)\n",
    "\n",
    "plt.show()"
   ]
  },
  {
   "attachments": {},
   "cell_type": "markdown",
   "metadata": {},
   "source": [
    "## Generating point lists (Solving for x)"
   ]
  },
  {
   "cell_type": "code",
   "execution_count": null,
   "metadata": {},
   "outputs": [],
   "source": [
    "def generateFunctionPoints(coefficients, start=-10, stop=10, step=0.01):\n",
    "    '''\n",
    "    a*x^3 + b*x^2y + c*xy^2 + d*y^3 + e*x^2 + f*xy + g*y^2 + h*x + i*y + j*1 = 0\n",
    "    '''\n",
    "    points = []\n",
    "    a, b, c, d, e, f, g, h, i ,j = coefficients\n",
    "    for x in tqdm(np.arange(start, stop, step)):\n",
    "        yCoefficients = [d, g + c*x, i + b*(x**2)+f*x, j + a*(x**3)+e*(x**2)+h*x]\n",
    "        for y in cubicSolve(yCoefficients):\n",
    "            points.append((x,y))\n",
    "    for y in tqdm(np.arange(start, stop, step)):\n",
    "        xCoefficients = [a, e + b*y, h + c*(y**2)+f*y, j + d*(y**3)+g*(y**2)+i*y]\n",
    "        for x in cubicSolve(xCoefficients):\n",
    "            points.append((x,y))\n",
    "    return points\n",
    "\n",
    "def cubicSolve(coefficients):\n",
    "    '''\n",
    "    Solves for ax^3+bx^2+cx+d=0\n",
    "    '''\n",
    "    polinomial = np.polynomial.Polynomial(coefficients[::-1])\n",
    "    return [root.real for root in polinomial.roots() if abs(root.imag)<1e-5]"
   ]
  },
  {
   "cell_type": "code",
   "execution_count": null,
   "metadata": {},
   "outputs": [],
   "source": [
    "# function: x**2 + y**2 - 1 = 0\n",
    "functionCoefficients = [1, 0, 0, 1, 0, 3, 0, 0, 0, 0]\n",
    "\n",
    "points = np.array(generateFunctionPoints(functionCoefficients, step=0.001))\n",
    "\n",
    "print(len(points))"
   ]
  },
  {
   "cell_type": "code",
   "execution_count": null,
   "metadata": {},
   "outputs": [],
   "source": [
    "sns.scatterplot(x = points[:,0], y = points[:,1], legend=False,  marker='.', edgecolor=None, s=2)\n",
    "\n",
    "plt.gca().set_aspect('equal')\n",
    "\n",
    "plt.xlim(-5, 5)\n",
    "plt.ylim(-5, 5)\n",
    "\n",
    "plt.show()"
   ]
  },
  {
   "cell_type": "code",
   "execution_count": null,
   "metadata": {},
   "outputs": [],
   "source": [
    "functionCoefficients = [-1, -3, 3, 1, 0, 0, 0, 0, 0, 0]\n",
    "\n",
    "points = np.array(generateFunctionPoints(functionCoefficients, step=0.001))\n",
    "\n",
    "sns.scatterplot(x = points[:,0], y = points[:,1], legend=False,  marker='.', edgecolor=None, s=2)\n",
    "\n",
    "plt.gca().set_aspect('equal')\n",
    "\n",
    "plt.xlim(-5, 5)\n",
    "plt.ylim(-5, 5)\n",
    "\n",
    "plt.show()"
   ]
  },
  {
   "cell_type": "code",
   "execution_count": null,
   "metadata": {},
   "outputs": [],
   "source": [
    "functionCoefficients = [1, -3, -3, 1, 0, 0, 0, 0, 6, 0]\n",
    "\n",
    "points = np.array(generateFunctionPoints(functionCoefficients, step=0.001))\n",
    "\n",
    "sns.scatterplot(x = points[:,0], y = points[:,1], legend=False,  marker='.', edgecolor=None, s=2)\n",
    "\n",
    "plt.gca().set_aspect('equal')\n",
    "\n",
    "plt.xlim(-5, 5)\n",
    "plt.ylim(-5, 5)\n",
    "\n",
    "plt.show()"
   ]
  },
  {
   "cell_type": "code",
   "execution_count": 200,
   "metadata": {},
   "outputs": [],
   "source": [
    "def drawFun(x, i):\n",
    "    functionCoefficients = [x, 2/x, -3-x, 3, 3*x, -3, 1, 2, -4, 0]\n",
    "\n",
    "    points = np.array(generateFunctionPoints(functionCoefficients, step=0.01))\n",
    "\n",
    "    sns_plot = sns.scatterplot(x = points[:,0], y = points[:,1], legend=False,  marker='.', edgecolor=None, s=2)\n",
    "\n",
    "    fig = sns_plot.get_figure()\n",
    "    fig.savefig(\"output\"+ str(i) + \".png\")\n",
    "\n",
    "    plt.gca().set_aspect('equal')\n",
    "\n",
    "    plt.xlim(-10, 10)\n",
    "    plt.ylim(-10, 10)\n",
    "\n",
    "    #plt.show()"
   ]
  },
  {
   "cell_type": "code",
   "execution_count": null,
   "metadata": {},
   "outputs": [],
   "source": [
    "for i,x in tqdm(enumerate(np.arange(-10, 10, 0.1))):\n",
    "    drawFun(x,i)"
   ]
  },
  {
   "cell_type": "code",
   "execution_count": 202,
   "metadata": {},
   "outputs": [],
   "source": [
    "from PIL import Image\n",
    "\n",
    "# Set the filename pattern and the output filename\n",
    "filename_pattern = 'output%d.png'\n",
    "output_filename = 'animation2.gif'\n",
    "\n",
    "# Load the images and append them to a list\n",
    "images = []\n",
    "for i in range(124): # Assuming you have 10 images\n",
    "    filename = filename_pattern % i\n",
    "    im = Image.open(filename)\n",
    "    images.append(im)\n",
    "\n",
    "# Save the images as an animated GIF\n",
    "images[0].save(output_filename, save_all=True, append_images=images[1:], duration=100, loop=0)\n"
   ]
  }
 ],
 "metadata": {
  "kernelspec": {
   "display_name": ".venv",
   "language": "python",
   "name": "python3"
  },
  "language_info": {
   "codemirror_mode": {
    "name": "ipython",
    "version": 3
   },
   "file_extension": ".py",
   "mimetype": "text/x-python",
   "name": "python",
   "nbconvert_exporter": "python",
   "pygments_lexer": "ipython3",
   "version": "3.10.10"
  },
  "orig_nbformat": 4
 },
 "nbformat": 4,
 "nbformat_minor": 2
}
