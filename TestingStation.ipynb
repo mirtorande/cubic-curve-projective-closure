{
 "cells": [
  {
   "cell_type": "code",
   "execution_count": 1,
   "metadata": {},
   "outputs": [],
   "source": [
    "import streamlit as st\n",
    "import numpy as np\n",
    "from math import sqrt\n",
    "import matplotlib.pyplot as plt\n",
    "import seaborn as sns\n",
    "import re\n",
    "\n",
    "def generateFunctionPoints(coefficients, start=-10, stop=10, step=0.01, showTqdm=True):\n",
    "    '''\n",
    "    a*x^3 + b*x^2y + c*xy^2 + d*y^3 + e*x^2 + f*xy + g*y^2 + h*x + i*y + j*1 = 0\n",
    "    '''\n",
    "    points = []\n",
    "    a, b, c, d, e, f, g, h, i ,j = coefficients\n",
    "    for v in np.arange(start, stop, step):\n",
    "        yCoefficients = [d, g + c*v, i + b*(v**2)+f*v, j + a*(v**3)+e*(v**2)+h*v]\n",
    "        xCoefficients = [a, e + b*v, h + c*(v**2)+f*v, j + d*(v**3)+g*(v**2)+i*v]\n",
    "        for y in cubicSolve(yCoefficients):\n",
    "            points.append((v,y))\n",
    "        for x in cubicSolve(xCoefficients):\n",
    "            points.append((x,v))\n",
    "    return np.array(points)\n",
    "\n",
    "def cubicSolve(coefficients):\n",
    "    '''\n",
    "    Solves for ax^3+bx^2+cx+d=0\n",
    "    '''\n",
    "    polinomial = np.polynomial.Polynomial(coefficients[::-1])\n",
    "    return [root.real for root in polinomial.roots() if abs(root.imag)<1e-5]\n",
    "\n",
    "def projectPoints(points):\n",
    "    proj_alpha = np.arctan2([y for _, y in points], [x for x, _ in points])\n",
    "    proj_radius = [sqrt(x**2+y**2)/sqrt(x**2+y**2+1) for x, y in points]\n",
    "    proj_x = np.cos(proj_alpha) * proj_radius\n",
    "    proj_y = np.sin(proj_alpha) * proj_radius\n",
    "    return np.array(list(zip(proj_x, proj_y)))\n",
    "\n",
    "def plotCurve(points, size=1, col='Blue', ax=None):\n",
    "    return sns.scatterplot(x = points[:,0], y = points[:,1], legend=False,  marker='.', color=col, edgecolor=None, s=size, ax=ax)\n",
    "\n",
    "\n",
    "def deprojectLine(step = 0.01, radius=1):\n",
    "    points = np.arange(-radius, radius, step)\n",
    "    deproj_points = np.tan(np.arcsin(points))\n",
    "    return np.array(deproj_points + [0])\n",
    "\n",
    "def generateFunctionOnDeprojectedPoints(coefficients, radius=1, step=0.01, showTqdm=True):\n",
    "    '''\n",
    "    a*x^3 + b*x^2y + c*xy^2 + d*y^3 + e*x^2 + f*xy + g*y^2 + h*x + i*y + j*1 = 0\n",
    "    '''\n",
    "    points = deprojectLine(step=step, radius=radius)\n",
    "    validPoints = []\n",
    "    a, b, c, d, e, f, g, h, i ,j = coefficients\n",
    "    for v in points:\n",
    "        yCoefficients = [d, g + c*v, i + b*(v**2)+f*v, j + a*(v**3)+e*(v**2)+h*v]\n",
    "        xCoefficients = [a, e + b*v, h + c*(v**2)+f*v, j + d*(v**3)+g*(v**2)+i*v]\n",
    "        for y in cubicSolve(yCoefficients):\n",
    "            validPoints.append((v,y))\n",
    "        for x in cubicSolve(xCoefficients):\n",
    "            validPoints.append((x,v))\n",
    "        \n",
    "    return np.array(validPoints)\n",
    "\n",
    "def parseEquation(equation):\n",
    "    coeffs = re.search(r'(?:(-?\\d*\\.*\\d+)x\\^3)?(?: \\+ )?(?:(-?\\d*\\.*\\d+)x\\^2y)?(?: \\+ )?(?:(-?\\d*\\.*\\d+)xy\\^2)?(?: \\+ )?(?:(-?\\d*\\.*\\d+)y\\^3)?(?: \\+ )?(?:(-?\\d*\\.*\\d+)x\\^2)?(?: \\+ )?(?:(-?\\d*\\.*\\d+)xy)?(?: \\+ )?(?:(-?\\d*\\.*\\d+)y\\^2)?(?: \\+ )?(?:(-?\\d*\\.*\\d+)x)?(?: \\+ )?(?:(-?\\d*\\.*\\d+)y)?(?: \\+ )?(?:(-?\\d*\\.*\\d+))?', equation)\n",
    "    return [0 if c is None else float(c) for c in coeffs.groups()]\n"
   ]
  },
  {
   "cell_type": "code",
   "execution_count": 8,
   "metadata": {},
   "outputs": [
    {
     "name": "stdout",
     "output_type": "stream",
     "text": [
      "536\n"
     ]
    },
    {
     "data": {
      "image/png": "[encoded data removed]",
      "text/plain": [
       "<Figure size 640x480 with 1 Axes>"
      ]
     },
     "metadata": {},
     "output_type": "display_data"
    }
   ],
   "source": [
    "lineSize = 1\n",
    "step = .05\n",
    "affineLim = 10\n",
    "\n",
    "coefficents = parseEquation('1x^3 + 1xy^2 + 1x^2 + -1x + 1y + -.5')\n",
    "points = generateFunctionPoints(coefficents, step=step)\n",
    "print(len(points))\n",
    "plotCurve(points, size = lineSize, col = 'crimson')\n",
    "\n",
    "plt.gca().set_aspect('equal')\n",
    "\n",
    "plt.xlim(-affineLim, affineLim)\n",
    "plt.ylim(-affineLim, affineLim)\n",
    "\n",
    "plt.show()"
   ]
  }
 ],
 "metadata": {
  "kernelspec": {
   "display_name": ".venv",
   "language": "python",
   "name": "python3"
  },
  "language_info": {
   "codemirror_mode": {
    "name": "ipython",
    "version": 3
   },
   "file_extension": ".py",
   "mimetype": "text/x-python",
   "name": "python",
   "nbconvert_exporter": "python",
   "pygments_lexer": "ipython3",
   "version": "3.10.11"
  },
  "orig_nbformat": 4
 },
 "nbformat": 4,
 "nbformat_minor": 2
}
